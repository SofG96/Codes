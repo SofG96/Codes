{
  "nbformat": 4,
  "nbformat_minor": 0,
  "metadata": {
    "colab": {
      "name": "All_corp_bonds_short.ipynb",
      "provenance": [],
      "collapsed_sections": [],
      "toc_visible": true,
      "include_colab_link": true
    },
    "kernelspec": {
      "name": "python3",
      "display_name": "Python 3"
    }
  },
  "cells": [
    {
      "cell_type": "markdown",
      "metadata": {
        "id": "view-in-github",
        "colab_type": "text"
      },
      "source": [
        "<a href=\"https://colab.research.google.com/github/SofiaGori/API/blob/main/OpenFIGI_corp_bonds/All_corp_bonds.ipynb\" target=\"_parent\"><img src=\"https://colab.research.google.com/assets/colab-badge.svg\" alt=\"Open In Colab\"/></a>"
      ]
    },
    {
      "cell_type": "markdown",
      "metadata": {
        "id": "f9O7rGVeWzL9"
      },
      "source": [
        "### **OpenFIGI**\r\n",
        "\r\n",
        "*Sofia Gori, Jan 2021*\r\n",
        "\r\n",
        "This codes retrieves all securities ever issued by the firms in our sample.\r\n",
        "\r\n",
        "The companies in our sample have been chosen because they received an ESG disclosure score from Bloomberg."
      ]
    },
    {
      "cell_type": "markdown",
      "metadata": {
        "id": "H3JLEaFLXVwd"
      },
      "source": [
        "**Housekeeping**"
      ]
    },
    {
      "cell_type": "code",
      "metadata": {
        "id": "VMcTpFtPdhfL"
      },
      "source": [
        "import ast\r\n",
        "import json         \r\n",
        "import pprint\r\n",
        "import requests  \r\n",
        "import openpyxl\r\n",
        "import pandas as pd\r\n",
        "import numpy as np\r\n",
        "from pandas.io.json import json_normalize"
      ],
      "execution_count": null,
      "outputs": []
    },
    {
      "cell_type": "markdown",
      "metadata": {
        "id": "floqLXjWXqgJ"
      },
      "source": [
        "OpenFIGI request - example"
      ]
    },
    {
      "cell_type": "code",
      "metadata": {
        "id": "Miv4EsMt9Hne",
        "colab": {
          "base_uri": "https://localhost:8080/"
        },
        "outputId": "7eddaf7d-7379-4da9-b830-bc26886ef538"
      },
      "source": [
        "jobs = [\r\n",
        "    {'idType': 'TICKER', 'idValue': 'ADS', 'micCode': 'XETR'},\r\n",
        "    {'idType': 'ID_ISIN', 'idValue': 'XS2265968284'},  \r\n",
        "    {'idType': 'BASE_TICKER', 'idValue': 'ZIGGO','securityType2':'Corp'}\r\n",
        "]\r\n",
        "\r\n",
        "print(jobs)"
      ],
      "execution_count": null,
      "outputs": [
        {
          "output_type": "stream",
          "text": [
            "<class 'list'>\n"
          ],
          "name": "stdout"
        }
      ]
    },
    {
      "cell_type": "markdown",
      "metadata": {
        "id": "m9jppYP4WExh"
      },
      "source": [
        "**Import tickers from Excel** "
      ]
    },
    {
      "cell_type": "markdown",
      "metadata": {
        "id": "gYDtFlvLZ4wE"
      },
      "source": [
        "Upload the file in Google CoLab"
      ]
    },
    {
      "cell_type": "code",
      "metadata": {
        "colab": {
          "resources": {
            "http://localhost:8080/nbextensions/google.colab/files.js": {
              "data": "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",
              "ok": true,
              "headers": [
                [
                  "content-type",
                  "application/javascript"
                ]
              ],
              "status": 200,
              "status_text": ""
            }
          },
          "base_uri": "https://localhost:8080/",
          "height": 73
        },
        "id": "KACLAwALWJ1Z",
        "outputId": "6494300b-ac9d-4e84-fa35-c59a61c31a19"
      },
      "source": [
        "from google.colab import files\r\n",
        "uploaded = files.upload()\r\n",
        "\r\n",
        "#Please, import a file of your choosing containing tickers:"
      ],
      "execution_count": null,
      "outputs": [
        {
          "output_type": "display_data",
          "data": {
            "text/html": [
              "\n",
              "     <input type=\"file\" id=\"files-d4578110-bc5c-4bf4-b911-fa807907f93a\" name=\"files[]\" multiple disabled\n",
              "        style=\"border:none\" />\n",
              "     <output id=\"result-d4578110-bc5c-4bf4-b911-fa807907f93a\">\n",
              "      Upload widget is only available when the cell has been executed in the\n",
              "      current browser session. Please rerun this cell to enable.\n",
              "      </output>\n",
              "      <script src=\"/nbextensions/google.colab/files.js\"></script> "
            ],
            "text/plain": [
              "<IPython.core.display.HTML object>"
            ]
          },
          "metadata": {
            "tags": []
          }
        },
        {
          "output_type": "stream",
          "text": [
            "Saving Prova.xlsx to Prova.xlsx\n"
          ],
          "name": "stdout"
        }
      ]
    },
    {
      "cell_type": "markdown",
      "metadata": {
        "id": "ekvwqI42Z7yR"
      },
      "source": [
        "Select the tickers column and take only the unique values"
      ]
    },
    {
      "cell_type": "code",
      "metadata": {
        "colab": {
          "base_uri": "https://localhost:8080/",
          "height": 402
        },
        "id": "gr3XFbm7a0N2",
        "outputId": "85dce66f-e66e-40af-cace-4c3922d74b3c"
      },
      "source": [
        "excel = pd.read_excel('Prova.xlsx')\r\n",
        "\r\n",
        "ticker = pd.DataFrame(excel['Co. Corp TKR'].unique())\r\n",
        "ticker.columns = ['ticker']\r\n",
        "display(ticker)"
      ],
      "execution_count": null,
      "outputs": [
        {
          "output_type": "display_data",
          "data": {
            "text/html": [
              "<div>\n",
              "<style scoped>\n",
              "    .dataframe tbody tr th:only-of-type {\n",
              "        vertical-align: middle;\n",
              "    }\n",
              "\n",
              "    .dataframe tbody tr th {\n",
              "        vertical-align: top;\n",
              "    }\n",
              "\n",
              "    .dataframe thead th {\n",
              "        text-align: right;\n",
              "    }\n",
              "</style>\n",
              "<table border=\"1\" class=\"dataframe\">\n",
              "  <thead>\n",
              "    <tr style=\"text-align: right;\">\n",
              "      <th></th>\n",
              "      <th>ticker</th>\n",
              "    </tr>\n",
              "  </thead>\n",
              "  <tbody>\n",
              "    <tr>\n",
              "      <th>0</th>\n",
              "      <td>STERV</td>\n",
              "    </tr>\n",
              "    <tr>\n",
              "      <th>1</th>\n",
              "      <td>ADRIT</td>\n",
              "    </tr>\n",
              "    <tr>\n",
              "      <th>2</th>\n",
              "      <td>FSBIOE</td>\n",
              "    </tr>\n",
              "    <tr>\n",
              "      <th>3</th>\n",
              "      <td>FLUVIU</td>\n",
              "    </tr>\n",
              "    <tr>\n",
              "      <th>4</th>\n",
              "      <td>ZIGGO</td>\n",
              "    </tr>\n",
              "    <tr>\n",
              "      <th>...</th>\n",
              "      <td>...</td>\n",
              "    </tr>\n",
              "    <tr>\n",
              "      <th>826</th>\n",
              "      <td>CYPRSB</td>\n",
              "    </tr>\n",
              "    <tr>\n",
              "      <th>827</th>\n",
              "      <td>GXBBGB</td>\n",
              "    </tr>\n",
              "    <tr>\n",
              "      <th>828</th>\n",
              "      <td>RIZHBK</td>\n",
              "    </tr>\n",
              "    <tr>\n",
              "      <th>829</th>\n",
              "      <td>AEONRE</td>\n",
              "    </tr>\n",
              "    <tr>\n",
              "      <th>830</th>\n",
              "      <td>HANMIL</td>\n",
              "    </tr>\n",
              "  </tbody>\n",
              "</table>\n",
              "<p>831 rows × 1 columns</p>\n",
              "</div>"
            ],
            "text/plain": [
              "     ticker\n",
              "0     STERV\n",
              "1     ADRIT\n",
              "2    FSBIOE\n",
              "3    FLUVIU\n",
              "4     ZIGGO\n",
              "..      ...\n",
              "826  CYPRSB\n",
              "827  GXBBGB\n",
              "828  RIZHBK\n",
              "829  AEONRE\n",
              "830  HANMIL\n",
              "\n",
              "[831 rows x 1 columns]"
            ]
          },
          "metadata": {
            "tags": []
          }
        }
      ]
    },
    {
      "cell_type": "markdown",
      "metadata": {
        "id": "3KkAJkareJIl"
      },
      "source": [
        "**API setup**"
      ]
    },
    {
      "cell_type": "code",
      "metadata": {
        "id": "eHfXmfrKeIpg"
      },
      "source": [
        "openfigi_apikey  = '2900b1fe-2eb2-4504-a9e9-bb8bc81b26b3'  #API Key\r\n",
        "openfigi_url     = 'https://api.openfigi.com/v2/mapping'\r\n",
        "openfigi_headers = {'Content-Type': 'text/json'}"
      ],
      "execution_count": null,
      "outputs": []
    },
    {
      "cell_type": "markdown",
      "metadata": {
        "id": "jel5JnP-d8sh"
      },
      "source": [
        "**API query function definition**"
      ]
    },
    {
      "cell_type": "code",
      "metadata": {
        "id": "qM2v4M6ReWMd"
      },
      "source": [
        "def map_securities(jobs):\r\n",
        "    if openfigi_apikey:\r\n",
        "        openfigi_headers['X-OPENFIGI-APIKEY'] = openfigi_apikey\r\n",
        "    response = requests.post(url=openfigi_url, headers=openfigi_headers,\r\n",
        "                             json=jobs)\r\n",
        "    if response.status_code != 200:\r\n",
        "        raise Exception('Bad response code {}'.format(str(response.status_code)))\r\n",
        "    return response.json()"
      ],
      "execution_count": null,
      "outputs": []
    },
    {
      "cell_type": "markdown",
      "metadata": {
        "id": "GTMID1v1eXxs"
      },
      "source": [
        "**Function to transform the query from JSON format into a table in panel data format**"
      ]
    },
    {
      "cell_type": "code",
      "metadata": {
        "id": "JqwvQjCzeXaM"
      },
      "source": [
        "def map_table(query):\r\n",
        "  \r\n",
        "  #First JSON normalization: remove 'error' node and leave 'data' node.\r\n",
        "  normalization = pd.json_normalize(query)\r\n",
        "  normalization = normalization[normalization['data'].notna()]\r\n",
        "  normalization.index = range(len(normalization))\r\n",
        "  normalization = normalization['data']\r\n",
        "\r\n",
        "  #Run the second JSON normalization for each company.\r\n",
        "  #Create a database for each company that contains all securities ever issued.\r\n",
        "  output = pd.DataFrame()\r\n",
        "\r\n",
        "  for i in range(len(normalization)):\r\n",
        "    norm = pd.json_normalize(normalization[i])\r\n",
        "    output = output.append(norm, ignore_index=True)\r\n",
        "  \r\n",
        "  return output"
      ],
      "execution_count": null,
      "outputs": []
    },
    {
      "cell_type": "markdown",
      "metadata": {
        "id": "c1qnOqdvzlMD"
      },
      "source": [
        "**Query (in loop)**"
      ]
    },
    {
      "cell_type": "markdown",
      "metadata": {
        "id": "JTZFRB3EzzT1"
      },
      "source": [
        "Loop setup"
      ]
    },
    {
      "cell_type": "code",
      "metadata": {
        "id": "joL5TNB4zkds"
      },
      "source": [
        "# Create an empty dataframe\r\n",
        "database = pd.DataFrame()\r\n",
        "\r\n",
        "# first and last are non-changing parts of the query\r\n",
        "first = \"{'idType': 'BASE_TICKER', 'idValue': '\"\r\n",
        "last  = \"', 'securityType2' : 'Corp'}\""
      ],
      "execution_count": null,
      "outputs": []
    },
    {
      "cell_type": "markdown",
      "metadata": {
        "id": "6rc0pZDEz1C0"
      },
      "source": [
        "Run the loop (one ticker at a time)"
      ]
    },
    {
      "cell_type": "code",
      "metadata": {
        "id": "uZ6OBi8fcNCc"
      },
      "source": [
        "  for tck in ticker.ticker[x:x+10]:\r\n",
        "    query = []\r\n",
        "    query_list = ast.literal_eval(first + tck + last)\r\n",
        "    query.append(query_list)\r\n",
        "    print(query)\r\n",
        "    \r\n",
        "    result = map_securities(query)\r\n",
        "    data   = map_table(result)\r\n",
        "    \r\n",
        "    database = database.append(data, ignore_index=True)"
      ],
      "execution_count": null,
      "outputs": []
    },
    {
      "cell_type": "markdown",
      "metadata": {
        "id": "y-85jgGv2ina"
      },
      "source": [
        "**Edit the database**"
      ]
    },
    {
      "cell_type": "markdown",
      "metadata": {
        "id": "RtrkDNVd2j0F"
      },
      "source": [
        "Create a column that retrieves the maturity of every security from its security ticker"
      ]
    },
    {
      "cell_type": "code",
      "metadata": {
        "colab": {
          "base_uri": "https://localhost:8080/"
        },
        "id": "VTV-_tZ92hl7",
        "outputId": "57173ea8-e53f-498c-a629-a282cce40e10"
      },
      "source": [
        "database['ticker_corp'], database['num']= database['ticker'].str.split(' ', 1).str\r\n",
        "database['num_letter'], database['date']= database['num'].str.split(' ', 1).str\r\n",
        "database['maturity'], database['rest']= database['date'].str.split(' ', 1).str\r\n",
        "database.drop(['num', 'num_letter', 'date', 'rest'], axis=1, inplace=True)\r\n",
        "\r\n",
        "database.set_index('ticker_corp',inplace=True)\r\n",
        "database.reset_index(inplace=True)"
      ],
      "execution_count": null,
      "outputs": [
        {
          "output_type": "stream",
          "text": [
            "/usr/local/lib/python3.6/dist-packages/ipykernel_launcher.py:1: FutureWarning: Columnar iteration over characters will be deprecated in future releases.\n",
            "  \"\"\"Entry point for launching an IPython kernel.\n",
            "/usr/local/lib/python3.6/dist-packages/ipykernel_launcher.py:2: FutureWarning: Columnar iteration over characters will be deprecated in future releases.\n",
            "  \n",
            "/usr/local/lib/python3.6/dist-packages/ipykernel_launcher.py:3: FutureWarning: Columnar iteration over characters will be deprecated in future releases.\n",
            "  This is separate from the ipykernel package so we can avoid doing imports until\n"
          ],
          "name": "stderr"
        }
      ]
    },
    {
      "cell_type": "markdown",
      "metadata": {
        "id": "hXHazGAh0EG0"
      },
      "source": [
        "Display the database as a table"
      ]
    },
    {
      "cell_type": "code",
      "metadata": {
        "colab": {
          "base_uri": "https://localhost:8080/",
          "height": 1000
        },
        "id": "9ZU6Os8J0C9M",
        "outputId": "6323a7c7-fe29-40ba-86c8-2675eb9c98d7"
      },
      "source": [
        "print(\"\\n--------------\\nStart database\\n--------------\\n\")\r\n",
        "display(database)\r\n",
        "print(\"\\n--------------\\nEnd database\\n--------------\\n\")"
      ],
      "execution_count": null,
      "outputs": [
        {
          "output_type": "stream",
          "text": [
            "\n",
            "--------------\n",
            "Start database\n",
            "--------------\n",
            "\n"
          ],
          "name": "stdout"
        },
        {
          "output_type": "display_data",
          "data": {
            "text/html": [
              "<div>\n",
              "<style scoped>\n",
              "    .dataframe tbody tr th:only-of-type {\n",
              "        vertical-align: middle;\n",
              "    }\n",
              "\n",
              "    .dataframe tbody tr th {\n",
              "        vertical-align: top;\n",
              "    }\n",
              "\n",
              "    .dataframe thead th {\n",
              "        text-align: right;\n",
              "    }\n",
              "</style>\n",
              "<table border=\"1\" class=\"dataframe\">\n",
              "  <thead>\n",
              "    <tr style=\"text-align: right;\">\n",
              "      <th></th>\n",
              "      <th>ticker_corp</th>\n",
              "      <th>figi</th>\n",
              "      <th>name</th>\n",
              "      <th>ticker</th>\n",
              "      <th>exchCode</th>\n",
              "      <th>compositeFIGI</th>\n",
              "      <th>uniqueID</th>\n",
              "      <th>securityType</th>\n",
              "      <th>marketSector</th>\n",
              "      <th>shareClassFIGI</th>\n",
              "      <th>uniqueIDFutOpt</th>\n",
              "      <th>securityType2</th>\n",
              "      <th>securityDescription</th>\n",
              "      <th>maturity</th>\n",
              "    </tr>\n",
              "  </thead>\n",
              "  <tbody>\n",
              "    <tr>\n",
              "      <th>0</th>\n",
              "      <td>STERV</td>\n",
              "      <td>BBG00001Y7S3</td>\n",
              "      <td>STORA ENSO OYJ</td>\n",
              "      <td>STERV 7.375 05/15/11</td>\n",
              "      <td>NOT LISTED</td>\n",
              "      <td>None</td>\n",
              "      <td>COEC3932547</td>\n",
              "      <td>GLOBAL</td>\n",
              "      <td>Corp</td>\n",
              "      <td>None</td>\n",
              "      <td>None</td>\n",
              "      <td>Corp</td>\n",
              "      <td>STERV 7 3/8 05/15/11</td>\n",
              "      <td>05/15/11</td>\n",
              "    </tr>\n",
              "    <tr>\n",
              "      <th>1</th>\n",
              "      <td>STERV</td>\n",
              "      <td>BBG000045ZM3</td>\n",
              "      <td>STORA ENSO OYJ</td>\n",
              "      <td>STERV 6.375 06/29/07 EMTN</td>\n",
              "      <td>FRANKFURT</td>\n",
              "      <td>None</td>\n",
              "      <td>COEC2659885</td>\n",
              "      <td>EURO MTN</td>\n",
              "      <td>Corp</td>\n",
              "      <td>None</td>\n",
              "      <td>None</td>\n",
              "      <td>Corp</td>\n",
              "      <td>STERV 6 3/8 06/29/07</td>\n",
              "      <td>06/29/07</td>\n",
              "    </tr>\n",
              "    <tr>\n",
              "      <th>2</th>\n",
              "      <td>STERV</td>\n",
              "      <td>BBG00004V274</td>\n",
              "      <td>STORA ENSO OYJ</td>\n",
              "      <td>STERV F 10/11/10 EMTN</td>\n",
              "      <td>LUXEMBOURG</td>\n",
              "      <td>None</td>\n",
              "      <td>COEC2972767</td>\n",
              "      <td>EURO MTN</td>\n",
              "      <td>Corp</td>\n",
              "      <td>None</td>\n",
              "      <td>None</td>\n",
              "      <td>Corp</td>\n",
              "      <td>STERV Float 10/11/10</td>\n",
              "      <td>10/11/10</td>\n",
              "    </tr>\n",
              "    <tr>\n",
              "      <th>3</th>\n",
              "      <td>STERV</td>\n",
              "      <td>BBG000079X56</td>\n",
              "      <td>STORA ENSO OYJ</td>\n",
              "      <td>STERV 3.5 12/01/15 CPI</td>\n",
              "      <td>LUXEMBOURG</td>\n",
              "      <td>None</td>\n",
              "      <td>COEF3081645</td>\n",
              "      <td>EURO MTN</td>\n",
              "      <td>Corp</td>\n",
              "      <td>None</td>\n",
              "      <td>None</td>\n",
              "      <td>Corp</td>\n",
              "      <td>STERV 3 1/2 12/01/15</td>\n",
              "      <td>12/01/15</td>\n",
              "    </tr>\n",
              "    <tr>\n",
              "      <th>4</th>\n",
              "      <td>STERV</td>\n",
              "      <td>BBG000088H23</td>\n",
              "      <td>STORA ENSO OYJ</td>\n",
              "      <td>STERV 5.125 06/23/14 EMTN</td>\n",
              "      <td>FRANKFURT</td>\n",
              "      <td>None</td>\n",
              "      <td>COED5148983</td>\n",
              "      <td>EURO MTN</td>\n",
              "      <td>Corp</td>\n",
              "      <td>None</td>\n",
              "      <td>None</td>\n",
              "      <td>Corp</td>\n",
              "      <td>STERV 5 1/8 06/23/14</td>\n",
              "      <td>06/23/14</td>\n",
              "    </tr>\n",
              "    <tr>\n",
              "      <th>...</th>\n",
              "      <td>...</td>\n",
              "      <td>...</td>\n",
              "      <td>...</td>\n",
              "      <td>...</td>\n",
              "      <td>...</td>\n",
              "      <td>...</td>\n",
              "      <td>...</td>\n",
              "      <td>...</td>\n",
              "      <td>...</td>\n",
              "      <td>...</td>\n",
              "      <td>...</td>\n",
              "      <td>...</td>\n",
              "      <td>...</td>\n",
              "      <td>...</td>\n",
              "    </tr>\n",
              "    <tr>\n",
              "      <th>1851027</th>\n",
              "      <td>HANMIL</td>\n",
              "      <td>BBG00YS7NBF3</td>\n",
              "      <td>KB CAPITAL CO LTD</td>\n",
              "      <td>HANMIL 1.698 01/08/26 4656</td>\n",
              "      <td>NOT LISTED</td>\n",
              "      <td>None</td>\n",
              "      <td>COBN3901087</td>\n",
              "      <td>DOMESTIC</td>\n",
              "      <td>Corp</td>\n",
              "      <td>None</td>\n",
              "      <td>None</td>\n",
              "      <td>Corp</td>\n",
              "      <td>HANMIL 1.698 01/08/26</td>\n",
              "      <td>01/08/26</td>\n",
              "    </tr>\n",
              "    <tr>\n",
              "      <th>1851028</th>\n",
              "      <td>HANMIL</td>\n",
              "      <td>BBG00Z0JRX08</td>\n",
              "      <td>KB CAPITAL CO LTD</td>\n",
              "      <td>HANMIL 1.219 07/25/23 4661</td>\n",
              "      <td>NOT LISTED</td>\n",
              "      <td>None</td>\n",
              "      <td>COBN6945552</td>\n",
              "      <td>DOMESTIC</td>\n",
              "      <td>Corp</td>\n",
              "      <td>None</td>\n",
              "      <td>None</td>\n",
              "      <td>Corp</td>\n",
              "      <td>HANMIL 1.219 07/25/23</td>\n",
              "      <td>07/25/23</td>\n",
              "    </tr>\n",
              "    <tr>\n",
              "      <th>1851029</th>\n",
              "      <td>HANMIL</td>\n",
              "      <td>BBG00Z0JSCB1</td>\n",
              "      <td>KB CAPITAL CO LTD</td>\n",
              "      <td>HANMIL 1.295 01/25/24 4662</td>\n",
              "      <td>NOT LISTED</td>\n",
              "      <td>None</td>\n",
              "      <td>COBN6945784</td>\n",
              "      <td>DOMESTIC</td>\n",
              "      <td>Corp</td>\n",
              "      <td>None</td>\n",
              "      <td>None</td>\n",
              "      <td>Corp</td>\n",
              "      <td>HANMIL 1.295 01/25/24</td>\n",
              "      <td>01/25/24</td>\n",
              "    </tr>\n",
              "    <tr>\n",
              "      <th>1851030</th>\n",
              "      <td>HANMIL</td>\n",
              "      <td>BBG00Z0JW5W8</td>\n",
              "      <td>KB CAPITAL CO LTD</td>\n",
              "      <td>HANMIL 1.307 02/23/24 4663</td>\n",
              "      <td>NOT LISTED</td>\n",
              "      <td>None</td>\n",
              "      <td>COBN6948382</td>\n",
              "      <td>DOMESTIC</td>\n",
              "      <td>Corp</td>\n",
              "      <td>None</td>\n",
              "      <td>None</td>\n",
              "      <td>Corp</td>\n",
              "      <td>HANMIL 1.307 02/23/24</td>\n",
              "      <td>02/23/24</td>\n",
              "    </tr>\n",
              "    <tr>\n",
              "      <th>1851031</th>\n",
              "      <td>HANMIL</td>\n",
              "      <td>BBG00Z0JWP18</td>\n",
              "      <td>KB CAPITAL CO LTD</td>\n",
              "      <td>HANMIL 1.608 01/23/26 4664</td>\n",
              "      <td>NOT LISTED</td>\n",
              "      <td>None</td>\n",
              "      <td>COBN6948705</td>\n",
              "      <td>DOMESTIC</td>\n",
              "      <td>Corp</td>\n",
              "      <td>None</td>\n",
              "      <td>None</td>\n",
              "      <td>Corp</td>\n",
              "      <td>HANMIL 1.608 01/23/26</td>\n",
              "      <td>01/23/26</td>\n",
              "    </tr>\n",
              "  </tbody>\n",
              "</table>\n",
              "<p>1851032 rows × 14 columns</p>\n",
              "</div>"
            ],
            "text/plain": [
              "        ticker_corp          figi  ...    securityDescription  maturity\n",
              "0             STERV  BBG00001Y7S3  ...   STERV 7 3/8 05/15/11  05/15/11\n",
              "1             STERV  BBG000045ZM3  ...   STERV 6 3/8 06/29/07  06/29/07\n",
              "2             STERV  BBG00004V274  ...   STERV Float 10/11/10  10/11/10\n",
              "3             STERV  BBG000079X56  ...   STERV 3 1/2 12/01/15  12/01/15\n",
              "4             STERV  BBG000088H23  ...   STERV 5 1/8 06/23/14  06/23/14\n",
              "...             ...           ...  ...                    ...       ...\n",
              "1851027      HANMIL  BBG00YS7NBF3  ...  HANMIL 1.698 01/08/26  01/08/26\n",
              "1851028      HANMIL  BBG00Z0JRX08  ...  HANMIL 1.219 07/25/23  07/25/23\n",
              "1851029      HANMIL  BBG00Z0JSCB1  ...  HANMIL 1.295 01/25/24  01/25/24\n",
              "1851030      HANMIL  BBG00Z0JW5W8  ...  HANMIL 1.307 02/23/24  02/23/24\n",
              "1851031      HANMIL  BBG00Z0JWP18  ...  HANMIL 1.608 01/23/26  01/23/26\n",
              "\n",
              "[1851032 rows x 14 columns]"
            ]
          },
          "metadata": {
            "tags": []
          }
        },
        {
          "output_type": "stream",
          "text": [
            "\n",
            "--------------\n",
            "End database\n",
            "--------------\n",
            "\n"
          ],
          "name": "stdout"
        }
      ]
    },
    {
      "cell_type": "markdown",
      "metadata": {
        "id": "bwRucB5mDN_u"
      },
      "source": [
        "**Export the database**"
      ]
    },
    {
      "cell_type": "markdown",
      "metadata": {
        "id": "iCROJncZ3lIU"
      },
      "source": [
        "Make sure you can download the files from Google CoLab"
      ]
    },
    {
      "cell_type": "code",
      "metadata": {
        "id": "Uwiz_EqT8iCt"
      },
      "source": [
        "from google.colab import files"
      ],
      "execution_count": null,
      "outputs": []
    },
    {
      "cell_type": "markdown",
      "metadata": {
        "id": "nt2RHTBn3Q06"
      },
      "source": [
        "Export as .csv file"
      ]
    },
    {
      "cell_type": "code",
      "metadata": {
        "colab": {
          "base_uri": "https://localhost:8080/",
          "height": 17
        },
        "id": "SzCV_5Rh3QKR",
        "outputId": "ce1f1f9f-24de-4cf8-b930-126b14610d79"
      },
      "source": [
        "database.to_csv('all_securities.csv')\r\n",
        "files.download('all_securities.csv')"
      ],
      "execution_count": null,
      "outputs": [
        {
          "output_type": "display_data",
          "data": {
            "application/javascript": [
              "\n",
              "    async function download(id, filename, size) {\n",
              "      if (!google.colab.kernel.accessAllowed) {\n",
              "        return;\n",
              "      }\n",
              "      const div = document.createElement('div');\n",
              "      const label = document.createElement('label');\n",
              "      label.textContent = `Downloading \"${filename}\": `;\n",
              "      div.appendChild(label);\n",
              "      const progress = document.createElement('progress');\n",
              "      progress.max = size;\n",
              "      div.appendChild(progress);\n",
              "      document.body.appendChild(div);\n",
              "\n",
              "      const buffers = [];\n",
              "      let downloaded = 0;\n",
              "\n",
              "      const channel = await google.colab.kernel.comms.open(id);\n",
              "      // Send a message to notify the kernel that we're ready.\n",
              "      channel.send({})\n",
              "\n",
              "      for await (const message of channel.messages) {\n",
              "        // Send a message to notify the kernel that we're ready.\n",
              "        channel.send({})\n",
              "        if (message.buffers) {\n",
              "          for (const buffer of message.buffers) {\n",
              "            buffers.push(buffer);\n",
              "            downloaded += buffer.byteLength;\n",
              "            progress.value = downloaded;\n",
              "          }\n",
              "        }\n",
              "      }\n",
              "      const blob = new Blob(buffers, {type: 'application/binary'});\n",
              "      const a = document.createElement('a');\n",
              "      a.href = window.URL.createObjectURL(blob);\n",
              "      a.download = filename;\n",
              "      div.appendChild(a);\n",
              "      a.click();\n",
              "      div.remove();\n",
              "    }\n",
              "  "
            ],
            "text/plain": [
              "<IPython.core.display.Javascript object>"
            ]
          },
          "metadata": {
            "tags": []
          }
        },
        {
          "output_type": "display_data",
          "data": {
            "application/javascript": [
              "download(\"download_55e73aeb-3d36-4f39-98c7-4d81a8d32e14\", \"all_securities.csv\", 249810349)"
            ],
            "text/plain": [
              "<IPython.core.display.Javascript object>"
            ]
          },
          "metadata": {
            "tags": []
          }
        }
      ]
    },
    {
      "cell_type": "markdown",
      "metadata": {
        "id": "1dF4QuRJ3S-o"
      },
      "source": [
        "Export as .txt file"
      ]
    },
    {
      "cell_type": "code",
      "metadata": {
        "colab": {
          "base_uri": "https://localhost:8080/",
          "height": 34
        },
        "id": "GRenPVqf3Uff",
        "outputId": "2919e8a8-bc6a-4024-96f8-46e0c37ef4e9"
      },
      "source": [
        "df.to_csv('all_securities.txt', header=True, index=True, sep=',', mode= 'a')\r\n",
        "files.download('all_securities.txt')"
      ],
      "execution_count": null,
      "outputs": [
        {
          "output_type": "display_data",
          "data": {
            "application/javascript": [
              "\n",
              "    async function download(id, filename, size) {\n",
              "      if (!google.colab.kernel.accessAllowed) {\n",
              "        return;\n",
              "      }\n",
              "      const div = document.createElement('div');\n",
              "      const label = document.createElement('label');\n",
              "      label.textContent = `Downloading \"${filename}\": `;\n",
              "      div.appendChild(label);\n",
              "      const progress = document.createElement('progress');\n",
              "      progress.max = size;\n",
              "      div.appendChild(progress);\n",
              "      document.body.appendChild(div);\n",
              "\n",
              "      const buffers = [];\n",
              "      let downloaded = 0;\n",
              "\n",
              "      const channel = await google.colab.kernel.comms.open(id);\n",
              "      // Send a message to notify the kernel that we're ready.\n",
              "      channel.send({})\n",
              "\n",
              "      for await (const message of channel.messages) {\n",
              "        // Send a message to notify the kernel that we're ready.\n",
              "        channel.send({})\n",
              "        if (message.buffers) {\n",
              "          for (const buffer of message.buffers) {\n",
              "            buffers.push(buffer);\n",
              "            downloaded += buffer.byteLength;\n",
              "            progress.value = downloaded;\n",
              "          }\n",
              "        }\n",
              "      }\n",
              "      const blob = new Blob(buffers, {type: 'application/binary'});\n",
              "      const a = document.createElement('a');\n",
              "      a.href = window.URL.createObjectURL(blob);\n",
              "      a.download = filename;\n",
              "      div.appendChild(a);\n",
              "      a.click();\n",
              "      div.remove();\n",
              "    }\n",
              "  "
            ],
            "text/plain": [
              "<IPython.core.display.Javascript object>"
            ]
          },
          "metadata": {
            "tags": []
          }
        },
        {
          "output_type": "display_data",
          "data": {
            "application/javascript": [
              "download(\"download_351edce4-e55a-4b24-8e03-3857ff9d486c\", \"all_securities.txt\", 94412067)"
            ],
            "text/plain": [
              "<IPython.core.display.Javascript object>"
            ]
          },
          "metadata": {
            "tags": []
          }
        }
      ]
    }
  ]
}